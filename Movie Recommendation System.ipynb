{
 "cells": [
  {
   "cell_type": "code",
   "execution_count": 1,
   "id": "bdfd4b4d",
   "metadata": {},
   "outputs": [],
   "source": [
    "import pandas as pd"
   ]
  },
  {
   "cell_type": "markdown",
   "id": "c8c663d9",
   "metadata": {},
   "source": [
    "Step 1:Load Dataset"
   ]
  },
  {
   "cell_type": "code",
   "execution_count": 2,
   "id": "e6bffe13",
   "metadata": {},
   "outputs": [],
   "source": [
    "# Load datasets\n",
    "movies = pd.read_csv('Movies.csv')\n",
    "ratings = pd.read_csv('Ratings.csv')"
   ]
  },
  {
   "cell_type": "markdown",
   "id": "fa238c18",
   "metadata": {},
   "source": [
    "Step 2: Exploratory Data Analysis (EDA)\n",
    "Understanding Distribution of Features"
   ]
  },
  {
   "cell_type": "code",
   "execution_count": 5,
   "id": "d6d1dc9f",
   "metadata": {},
   "outputs": [
    {
     "name": "stdout",
     "output_type": "stream",
     "text": [
      "Movies Dataset:\n",
      "<class 'pandas.core.frame.DataFrame'>\n",
      "RangeIndex: 10329 entries, 0 to 10328\n",
      "Data columns (total 3 columns):\n",
      " #   Column   Non-Null Count  Dtype \n",
      "---  ------   --------------  ----- \n",
      " 0   movieId  10329 non-null  int64 \n",
      " 1   title    10329 non-null  object\n",
      " 2   genres   10329 non-null  object\n",
      "dtypes: int64(1), object(2)\n",
      "memory usage: 242.2+ KB\n",
      "None\n"
     ]
    }
   ],
   "source": [
    "# Display basic info about the datasets\n",
    "print(\"Movies Dataset:\")\n",
    "print(movies.info())"
   ]
  },
  {
   "cell_type": "code",
   "execution_count": 6,
   "id": "b7b6d056",
   "metadata": {},
   "outputs": [
    {
     "name": "stdout",
     "output_type": "stream",
     "text": [
      "\n",
      "Ratings Dataset:\n",
      "<class 'pandas.core.frame.DataFrame'>\n",
      "RangeIndex: 105339 entries, 0 to 105338\n",
      "Data columns (total 4 columns):\n",
      " #   Column     Non-Null Count   Dtype  \n",
      "---  ------     --------------   -----  \n",
      " 0   userId     105339 non-null  int64  \n",
      " 1   movieId    105339 non-null  int64  \n",
      " 2   rating     105339 non-null  float64\n",
      " 3   timestamp  105339 non-null  int64  \n",
      "dtypes: float64(1), int64(3)\n",
      "memory usage: 3.2 MB\n",
      "None\n"
     ]
    }
   ],
   "source": [
    "print(\"\\nRatings Dataset:\")\n",
    "print(ratings.info())"
   ]
  },
  {
   "cell_type": "markdown",
   "id": "e839114b",
   "metadata": {},
   "source": [
    "Finding Unique Users and Movies"
   ]
  },
  {
   "cell_type": "code",
   "execution_count": 8,
   "id": "d52b7a11",
   "metadata": {},
   "outputs": [
    {
     "name": "stdout",
     "output_type": "stream",
     "text": [
      "\n",
      "Unique Users: 668\n",
      "Unique Movies: 10325\n"
     ]
    }
   ],
   "source": [
    "unique_users = ratings['userId'].nunique()\n",
    "unique_movies = ratings['movieId'].nunique()\n",
    "\n",
    "print(f\"\\nUnique Users: {unique_users}\")\n",
    "print(f\"Unique Movies: {unique_movies}\")\n"
   ]
  },
  {
   "cell_type": "markdown",
   "id": "55010f76",
   "metadata": {},
   "source": [
    "Average Rating and Total Movies at Genre Level"
   ]
  },
  {
   "cell_type": "code",
   "execution_count": 9,
   "id": "460f463a",
   "metadata": {},
   "outputs": [],
   "source": [
    "# Merge datasets\n",
    "movie_ratings = pd.merge(ratings, movies, on='movieId')"
   ]
  },
  {
   "cell_type": "code",
   "execution_count": 10,
   "id": "be9fe4f9",
   "metadata": {},
   "outputs": [],
   "source": [
    "# Average rating at genre level\n",
    "genre_avg_rating = movie_ratings.groupby('genres')['rating'].mean()"
   ]
  },
  {
   "cell_type": "code",
   "execution_count": 11,
   "id": "d644bcf9",
   "metadata": {},
   "outputs": [
    {
     "name": "stdout",
     "output_type": "stream",
     "text": [
      "\n",
      "Average Rating at Genre Level:\n",
      "genres\n",
      "(no genres listed)                     3.071429\n",
      "Action                                 2.836406\n",
      "Action|Adventure                       3.739804\n",
      "Action|Adventure|Animation             4.125000\n",
      "Action|Adventure|Animation|Children    3.550000\n",
      "                                         ...   \n",
      "Sci-Fi|Thriller|IMAX                   3.500000\n",
      "Thriller                               3.473430\n",
      "Thriller|War                           3.500000\n",
      "War                                    3.613636\n",
      "Western                                3.500000\n",
      "Name: rating, Length: 938, dtype: float64\n",
      "\n",
      "Total Movies at Genre Level:\n",
      "genres\n",
      "(no genres listed)                       7\n",
      "Action                                  48\n",
      "Action|Adventure                        32\n",
      "Action|Adventure|Animation               3\n",
      "Action|Adventure|Animation|Children      1\n",
      "                                      ... \n",
      "Sci-Fi|Thriller|IMAX                     1\n",
      "Thriller                               106\n",
      "Thriller|War                             7\n",
      "War                                     10\n",
      "Western                                 66\n",
      "Name: movieId, Length: 938, dtype: int64\n"
     ]
    }
   ],
   "source": [
    "# Total movies at genre level\n",
    "genre_total_movies = movie_ratings.groupby('genres')['movieId'].nunique()\n",
    "\n",
    "print(\"\\nAverage Rating at Genre Level:\")\n",
    "print(genre_avg_rating)\n",
    "\n",
    "print(\"\\nTotal Movies at Genre Level:\")\n",
    "print(genre_total_movies)"
   ]
  },
  {
   "cell_type": "markdown",
   "id": "c2a1afbb",
   "metadata": {},
   "source": [
    "Unique Genres Considered"
   ]
  },
  {
   "cell_type": "code",
   "execution_count": 12,
   "id": "5489fcf6",
   "metadata": {},
   "outputs": [
    {
     "name": "stdout",
     "output_type": "stream",
     "text": [
      "\n",
      "Unique Genres Considered:\n",
      "['Adventure' 'Animation' 'Children' 'Comedy' 'Fantasy' 'Romance' 'Drama'\n",
      " 'Action' 'Crime' 'Thriller' 'Horror' 'Mystery' 'Sci-Fi' 'IMAX' 'War'\n",
      " 'Musical' 'Documentary' 'Western' 'Film-Noir' '(no genres listed)']\n"
     ]
    }
   ],
   "source": [
    "unique_genres = movies['genres'].str.split('|').explode().unique()\n",
    "print(\"\\nUnique Genres Considered:\")\n",
    "print(unique_genres)\n"
   ]
  },
  {
   "cell_type": "markdown",
   "id": "454c884d",
   "metadata": {},
   "source": [
    "Step 3: Design the 3 Different Recommendation Modules"
   ]
  },
  {
   "cell_type": "markdown",
   "id": "2bc581d2",
   "metadata": {},
   "source": [
    "Popularity-Based Recommender System"
   ]
  },
  {
   "cell_type": "code",
   "execution_count": 21,
   "id": "f6de1ef9",
   "metadata": {},
   "outputs": [
    {
     "name": "stdout",
     "output_type": "stream",
     "text": [
      "                                        AverageMovieRating  NumReviews\n",
      "title                                                                 \n",
      "Monty Python and the Holy Grail (1975)            4.301948         154\n",
      "Fargo (1996)                                      4.271144         201\n",
      "Princess Bride, The (1987)                        4.163743         171\n",
      "Pulp Fiction (1994)                               4.160000         325\n",
      "Forrest Gump (1994)                               4.138264         311\n"
     ]
    }
   ],
   "source": [
    "def popularity_recommender(genre, min_reviews, num_recommendations):\n",
    "    # Filter movies based on genre and minimum reviews threshold\n",
    "    genre_movies = movie_ratings[movie_ratings['genres'].str.contains(genre, case=False)]\n",
    "    genre_movies = genre_movies.groupby('title').filter(lambda x: len(x) >= min_reviews)\n",
    "    \n",
    "    # Calculate average rating and number of reviews\n",
    "    genre_stats = genre_movies.groupby('title').agg({'rating': 'mean', 'movieId': 'count'})\n",
    "    genre_stats = genre_stats.rename(columns={'rating': 'AverageMovieRating', 'movieId': 'NumReviews'})\n",
    "    \n",
    "    # Sort by average rating in descending order\n",
    "    genre_stats = genre_stats.sort_values(by=['AverageMovieRating'], ascending=False)\n",
    "    \n",
    "    # Display top N recommendations\n",
    "    top_recommendations = genre_stats.head(num_recommendations)\n",
    "    print(top_recommendations)\n",
    "    \n",
    "# Example usage\n",
    "popularity_recommender('Comedy', 100, 5)\n"
   ]
  },
  {
   "cell_type": "markdown",
   "id": "4af6b027",
   "metadata": {},
   "source": [
    "Content-Based Recommender System"
   ]
  },
  {
   "cell_type": "code",
   "execution_count": 22,
   "id": "94cddf63",
   "metadata": {},
   "outputs": [],
   "source": [
    "from sklearn.feature_extraction.text import TfidfVectorizer\n",
    "from sklearn.metrics.pairwise import linear_kernel\n"
   ]
  },
  {
   "cell_type": "code",
   "execution_count": 25,
   "id": "f889fde6",
   "metadata": {},
   "outputs": [
    {
     "name": "stdout",
     "output_type": "stream",
     "text": [
      "Movie 'Toy Story' not found in the dataset.\n"
     ]
    }
   ],
   "source": [
    "def content_based_recommender(movie_title, num_recommendations):\n",
    "    # Check if the movie exists in the dataset\n",
    "    if movie_title not in movies['title'].values:\n",
    "        print(f\"Movie '{movie_title}' not found in the dataset.\")\n",
    "        return\n",
    "\n",
    "    # TF-IDF vectorizer\n",
    "    tfidf_vectorizer = TfidfVectorizer(stop_words='english')\n",
    "\n",
    "    # Compute TF-IDF matrix\n",
    "    tfidf_matrix = tfidf_vectorizer.fit_transform(movies['genres'])\n",
    "\n",
    "    # Compute cosine similarity\n",
    "    cosine_sim = linear_kernel(tfidf_matrix, tfidf_matrix)\n",
    "\n",
    "    # Get index of the movie\n",
    "    movie_index = movies[movies['title'] == movie_title].index\n",
    "\n",
    "    # Get similarity scores\n",
    "    sim_scores = list(enumerate(cosine_sim[movie_index][0]))\n",
    "\n",
    "    # Sort movies based on similarity scores\n",
    "    sim_scores = sorted(sim_scores, key=lambda x: x[1], reverse=True)\n",
    "\n",
    "    # Display top N recommendations\n",
    "    top_recommendations = sim_scores[1:num_recommendations + 1]\n",
    "    recommended_movies = [movies['title'].iloc[i[0]] for i in top_recommendations]\n",
    "    print(recommended_movies)\n",
    "\n",
    "# Example usage\n",
    "content_based_recommender('Toy Story', 5)\n"
   ]
  },
  {
   "cell_type": "markdown",
   "id": "80ed5cbb",
   "metadata": {},
   "source": [
    "Collaborative-Based Recommender System"
   ]
  },
  {
   "cell_type": "code",
   "execution_count": 26,
   "id": "a4787af9",
   "metadata": {},
   "outputs": [],
   "source": [
    "from sklearn.metrics.pairwise import cosine_similarity\n"
   ]
  },
  {
   "cell_type": "code",
   "execution_count": 27,
   "id": "e1f53f52",
   "metadata": {},
   "outputs": [
    {
     "name": "stdout",
     "output_type": "stream",
     "text": [
      "movieId\n",
      "1291    257.0\n",
      "1       242.0\n",
      "1036    241.0\n",
      "1200    235.5\n",
      "4226    232.0\n",
      "dtype: float64\n"
     ]
    }
   ],
   "source": [
    "def collaborative_recommender(user_id, num_recommendations, k_similar_users):\n",
    "    # Pivot ratings table\n",
    "    user_movie_ratings = ratings.pivot_table(index='userId', columns='movieId', values='rating')\n",
    "    \n",
    "    # Fill NaN values with 0\n",
    "    user_movie_ratings = user_movie_ratings.fillna(0)\n",
    "    \n",
    "    # Get user ratings\n",
    "    user_ratings = user_movie_ratings.loc[user_id].values.reshape(1, -1)\n",
    "    \n",
    "    # Compute cosine similarity\n",
    "    similarities = cosine_similarity(user_movie_ratings.values, user_ratings)\n",
    "    \n",
    "    # Get indices of k most similar users\n",
    "    similar_users = similarities.flatten().argsort()[-k_similar_users-1:-1][::-1]\n",
    "    \n",
    "    # Get movies rated by similar users\n",
    "    recommended_movies = user_movie_ratings.iloc[similar_users].sum().sort_values(ascending=False)\n",
    "    \n",
    "    # Exclude movies already rated by the target user\n",
    "    recommended_movies = recommended_movies[user_movie_ratings.loc[user_id] == 0]\n",
    "    \n",
    "    # Display top N recommendations\n",
    "    top_recommendations = recommended_movies.head(num_recommendations)\n",
    "    print(top_recommendations)\n",
    "\n",
    "# Example usage\n",
    "collaborative_recommender(1, 5, 100)"
   ]
  },
  {
   "cell_type": "code",
   "execution_count": 28,
   "id": "ad9dfef1",
   "metadata": {},
   "outputs": [
    {
     "name": "stdout",
     "output_type": "stream",
     "text": [
      "Requirement already satisfied: ipywidgets in c:\\users\\hp\\anaconda3\\lib\\site-packages (7.6.5)\n",
      "Requirement already satisfied: jupyterlab-widgets>=1.0.0 in c:\\users\\hp\\anaconda3\\lib\\site-packages (from ipywidgets) (1.0.0)\n",
      "Requirement already satisfied: ipython-genutils~=0.2.0 in c:\\users\\hp\\anaconda3\\lib\\site-packages (from ipywidgets) (0.2.0)\n",
      "Requirement already satisfied: ipython>=4.0.0 in c:\\users\\hp\\anaconda3\\lib\\site-packages (from ipywidgets) (7.31.1)\n",
      "Requirement already satisfied: ipykernel>=4.5.1 in c:\\users\\hp\\anaconda3\\lib\\site-packages (from ipywidgets) (6.15.2)\n",
      "Requirement already satisfied: traitlets>=4.3.1 in c:\\users\\hp\\anaconda3\\lib\\site-packages (from ipywidgets) (5.1.1)\n",
      "Requirement already satisfied: widgetsnbextension~=3.5.0 in c:\\users\\hp\\anaconda3\\lib\\site-packages (from ipywidgets) (3.5.2)\n",
      "Requirement already satisfied: nbformat>=4.2.0 in c:\\users\\hp\\anaconda3\\lib\\site-packages (from ipywidgets) (5.5.0)\n",
      "Requirement already satisfied: nest-asyncio in c:\\users\\hp\\anaconda3\\lib\\site-packages (from ipykernel>=4.5.1->ipywidgets) (1.5.5)\n",
      "Requirement already satisfied: debugpy>=1.0 in c:\\users\\hp\\anaconda3\\lib\\site-packages (from ipykernel>=4.5.1->ipywidgets) (1.5.1)\n",
      "Requirement already satisfied: tornado>=6.1 in c:\\users\\hp\\anaconda3\\lib\\site-packages (from ipykernel>=4.5.1->ipywidgets) (6.1)\n",
      "Requirement already satisfied: packaging in c:\\users\\hp\\anaconda3\\lib\\site-packages (from ipykernel>=4.5.1->ipywidgets) (21.3)\n",
      "Requirement already satisfied: matplotlib-inline>=0.1 in c:\\users\\hp\\anaconda3\\lib\\site-packages (from ipykernel>=4.5.1->ipywidgets) (0.1.6)\n",
      "Requirement already satisfied: pyzmq>=17 in c:\\users\\hp\\anaconda3\\lib\\site-packages (from ipykernel>=4.5.1->ipywidgets) (23.2.0)\n",
      "Requirement already satisfied: jupyter-client>=6.1.12 in c:\\users\\hp\\anaconda3\\lib\\site-packages (from ipykernel>=4.5.1->ipywidgets) (7.3.4)\n",
      "Requirement already satisfied: psutil in c:\\users\\hp\\anaconda3\\lib\\site-packages (from ipykernel>=4.5.1->ipywidgets) (5.9.0)\n",
      "Requirement already satisfied: prompt-toolkit!=3.0.0,!=3.0.1,<3.1.0,>=2.0.0 in c:\\users\\hp\\anaconda3\\lib\\site-packages (from ipython>=4.0.0->ipywidgets) (3.0.20)\n",
      "Requirement already satisfied: pickleshare in c:\\users\\hp\\anaconda3\\lib\\site-packages (from ipython>=4.0.0->ipywidgets) (0.7.5)\n",
      "Requirement already satisfied: colorama in c:\\users\\hp\\anaconda3\\lib\\site-packages (from ipython>=4.0.0->ipywidgets) (0.4.5)\n",
      "Requirement already satisfied: pygments in c:\\users\\hp\\anaconda3\\lib\\site-packages (from ipython>=4.0.0->ipywidgets) (2.11.2)\n",
      "Requirement already satisfied: jedi>=0.16 in c:\\users\\hp\\anaconda3\\lib\\site-packages (from ipython>=4.0.0->ipywidgets) (0.18.1)\n",
      "Requirement already satisfied: setuptools>=18.5 in c:\\users\\hp\\anaconda3\\lib\\site-packages (from ipython>=4.0.0->ipywidgets) (63.4.1)\n",
      "Requirement already satisfied: backcall in c:\\users\\hp\\anaconda3\\lib\\site-packages (from ipython>=4.0.0->ipywidgets) (0.2.0)\n",
      "Requirement already satisfied: decorator in c:\\users\\hp\\anaconda3\\lib\\site-packages (from ipython>=4.0.0->ipywidgets) (5.1.1)\n",
      "Requirement already satisfied: fastjsonschema in c:\\users\\hp\\anaconda3\\lib\\site-packages (from nbformat>=4.2.0->ipywidgets) (2.16.2)\n",
      "Requirement already satisfied: jupyter_core in c:\\users\\hp\\anaconda3\\lib\\site-packages (from nbformat>=4.2.0->ipywidgets) (4.11.1)\n",
      "Requirement already satisfied: jsonschema>=2.6 in c:\\users\\hp\\anaconda3\\lib\\site-packages (from nbformat>=4.2.0->ipywidgets) (4.16.0)\n",
      "Requirement already satisfied: notebook>=4.4.1 in c:\\users\\hp\\anaconda3\\lib\\site-packages (from widgetsnbextension~=3.5.0->ipywidgets) (6.4.12)\n",
      "Requirement already satisfied: parso<0.9.0,>=0.8.0 in c:\\users\\hp\\anaconda3\\lib\\site-packages (from jedi>=0.16->ipython>=4.0.0->ipywidgets) (0.8.3)\n",
      "Requirement already satisfied: attrs>=17.4.0 in c:\\users\\hp\\anaconda3\\lib\\site-packages (from jsonschema>=2.6->nbformat>=4.2.0->ipywidgets) (21.4.0)\n",
      "Requirement already satisfied: pyrsistent!=0.17.0,!=0.17.1,!=0.17.2,>=0.14.0 in c:\\users\\hp\\anaconda3\\lib\\site-packages (from jsonschema>=2.6->nbformat>=4.2.0->ipywidgets) (0.18.0)\n",
      "Requirement already satisfied: python-dateutil>=2.8.2 in c:\\users\\hp\\anaconda3\\lib\\site-packages (from jupyter-client>=6.1.12->ipykernel>=4.5.1->ipywidgets) (2.8.2)\n",
      "Requirement already satisfied: entrypoints in c:\\users\\hp\\anaconda3\\lib\\site-packages (from jupyter-client>=6.1.12->ipykernel>=4.5.1->ipywidgets) (0.4)\n",
      "Requirement already satisfied: pywin32>=1.0 in c:\\users\\hp\\anaconda3\\lib\\site-packages (from jupyter_core->nbformat>=4.2.0->ipywidgets) (302)\n",
      "Requirement already satisfied: jinja2 in c:\\users\\hp\\anaconda3\\lib\\site-packages (from notebook>=4.4.1->widgetsnbextension~=3.5.0->ipywidgets) (2.11.3)\n",
      "Requirement already satisfied: Send2Trash>=1.8.0 in c:\\users\\hp\\anaconda3\\lib\\site-packages (from notebook>=4.4.1->widgetsnbextension~=3.5.0->ipywidgets) (1.8.0)\n",
      "Requirement already satisfied: nbconvert>=5 in c:\\users\\hp\\anaconda3\\lib\\site-packages (from notebook>=4.4.1->widgetsnbextension~=3.5.0->ipywidgets) (6.4.4)\n",
      "Requirement already satisfied: argon2-cffi in c:\\users\\hp\\anaconda3\\lib\\site-packages (from notebook>=4.4.1->widgetsnbextension~=3.5.0->ipywidgets) (21.3.0)\n",
      "Requirement already satisfied: prometheus-client in c:\\users\\hp\\anaconda3\\lib\\site-packages (from notebook>=4.4.1->widgetsnbextension~=3.5.0->ipywidgets) (0.14.1)\n",
      "Requirement already satisfied: terminado>=0.8.3 in c:\\users\\hp\\anaconda3\\lib\\site-packages (from notebook>=4.4.1->widgetsnbextension~=3.5.0->ipywidgets) (0.13.1)\n",
      "Requirement already satisfied: wcwidth in c:\\users\\hp\\anaconda3\\lib\\site-packages (from prompt-toolkit!=3.0.0,!=3.0.1,<3.1.0,>=2.0.0->ipython>=4.0.0->ipywidgets) (0.2.5)\n",
      "Requirement already satisfied: pyparsing!=3.0.5,>=2.0.2 in c:\\users\\hp\\anaconda3\\lib\\site-packages (from packaging->ipykernel>=4.5.1->ipywidgets) (3.0.9)\n",
      "Requirement already satisfied: bleach in c:\\users\\hp\\anaconda3\\lib\\site-packages (from nbconvert>=5->notebook>=4.4.1->widgetsnbextension~=3.5.0->ipywidgets) (4.1.0)\n",
      "Requirement already satisfied: testpath in c:\\users\\hp\\anaconda3\\lib\\site-packages (from nbconvert>=5->notebook>=4.4.1->widgetsnbextension~=3.5.0->ipywidgets) (0.6.0)\n",
      "Requirement already satisfied: defusedxml in c:\\users\\hp\\anaconda3\\lib\\site-packages (from nbconvert>=5->notebook>=4.4.1->widgetsnbextension~=3.5.0->ipywidgets) (0.7.1)\n",
      "Requirement already satisfied: pandocfilters>=1.4.1 in c:\\users\\hp\\anaconda3\\lib\\site-packages (from nbconvert>=5->notebook>=4.4.1->widgetsnbextension~=3.5.0->ipywidgets) (1.5.0)\n",
      "Requirement already satisfied: mistune<2,>=0.8.1 in c:\\users\\hp\\anaconda3\\lib\\site-packages (from nbconvert>=5->notebook>=4.4.1->widgetsnbextension~=3.5.0->ipywidgets) (0.8.4)\n",
      "Requirement already satisfied: nbclient<0.6.0,>=0.5.0 in c:\\users\\hp\\anaconda3\\lib\\site-packages (from nbconvert>=5->notebook>=4.4.1->widgetsnbextension~=3.5.0->ipywidgets) (0.5.13)\n",
      "Requirement already satisfied: jupyterlab-pygments in c:\\users\\hp\\anaconda3\\lib\\site-packages (from nbconvert>=5->notebook>=4.4.1->widgetsnbextension~=3.5.0->ipywidgets) (0.1.2)\n",
      "Requirement already satisfied: beautifulsoup4 in c:\\users\\hp\\anaconda3\\lib\\site-packages (from nbconvert>=5->notebook>=4.4.1->widgetsnbextension~=3.5.0->ipywidgets) (4.11.1)\n",
      "Requirement already satisfied: MarkupSafe>=0.23 in c:\\users\\hp\\anaconda3\\lib\\site-packages (from jinja2->notebook>=4.4.1->widgetsnbextension~=3.5.0->ipywidgets) (2.0.1)\n",
      "Requirement already satisfied: six>=1.5 in c:\\users\\hp\\anaconda3\\lib\\site-packages (from python-dateutil>=2.8.2->jupyter-client>=6.1.12->ipykernel>=4.5.1->ipywidgets) (1.16.0)\n",
      "Requirement already satisfied: pywinpty>=1.1.0 in c:\\users\\hp\\anaconda3\\lib\\site-packages (from terminado>=0.8.3->notebook>=4.4.1->widgetsnbextension~=3.5.0->ipywidgets) (2.0.2)\n",
      "Requirement already satisfied: argon2-cffi-bindings in c:\\users\\hp\\anaconda3\\lib\\site-packages (from argon2-cffi->notebook>=4.4.1->widgetsnbextension~=3.5.0->ipywidgets) (21.2.0)\n",
      "Requirement already satisfied: cffi>=1.0.1 in c:\\users\\hp\\anaconda3\\lib\\site-packages (from argon2-cffi-bindings->argon2-cffi->notebook>=4.4.1->widgetsnbextension~=3.5.0->ipywidgets) (1.15.1)\n",
      "Requirement already satisfied: soupsieve>1.2 in c:\\users\\hp\\anaconda3\\lib\\site-packages (from beautifulsoup4->nbconvert>=5->notebook>=4.4.1->widgetsnbextension~=3.5.0->ipywidgets) (2.3.1)\n",
      "Requirement already satisfied: webencodings in c:\\users\\hp\\anaconda3\\lib\\site-packages (from bleach->nbconvert>=5->notebook>=4.4.1->widgetsnbextension~=3.5.0->ipywidgets) (0.5.1)\n",
      "Requirement already satisfied: pycparser in c:\\users\\hp\\anaconda3\\lib\\site-packages (from cffi>=1.0.1->argon2-cffi-bindings->argon2-cffi->notebook>=4.4.1->widgetsnbextension~=3.5.0->ipywidgets) (2.21)\n"
     ]
    },
    {
     "name": "stderr",
     "output_type": "stream",
     "text": [
      "WARNING: Ignoring invalid distribution -ensorflow-intel (c:\\users\\hp\\anaconda3\\lib\\site-packages)\n",
      "WARNING: Ignoring invalid distribution -ensorflow-intel (c:\\users\\hp\\anaconda3\\lib\\site-packages)\n",
      "WARNING: Ignoring invalid distribution -ensorflow-intel (c:\\users\\hp\\anaconda3\\lib\\site-packages)\n",
      "WARNING: Ignoring invalid distribution -ensorflow-intel (c:\\users\\hp\\anaconda3\\lib\\site-packages)\n",
      "WARNING: Ignoring invalid distribution -ensorflow-intel (c:\\users\\hp\\anaconda3\\lib\\site-packages)\n",
      "WARNING: Ignoring invalid distribution -ensorflow-intel (c:\\users\\hp\\anaconda3\\lib\\site-packages)\n"
     ]
    }
   ],
   "source": [
    "!pip install ipywidgets\n"
   ]
  },
  {
   "cell_type": "markdown",
   "id": "5cb3714e",
   "metadata": {},
   "source": [
    "Additional/Optional: Create a GUI interface using Python libraries (ipywidgetsetc.) to play around with there commendation module\n"
   ]
  },
  {
   "cell_type": "code",
   "execution_count": 29,
   "id": "a3b4aa08",
   "metadata": {},
   "outputs": [],
   "source": [
    "import ipywidgets as widgets\n",
    "from IPython.display import display\n"
   ]
  },
  {
   "cell_type": "code",
   "execution_count": 30,
   "id": "28011ebd",
   "metadata": {},
   "outputs": [],
   "source": [
    "# Function to handle button click\n",
    "def on_button_click(b):\n",
    "    movie_title = movie_title_input.value\n",
    "    num_recommendations = int(num_recommendations_input.value)\n",
    "    \n",
    "    # Call the content-based recommender function\n",
    "    content_based_recommender(movie_title, num_recommendations)"
   ]
  },
  {
   "cell_type": "code",
   "execution_count": 31,
   "id": "92295d0d",
   "metadata": {},
   "outputs": [],
   "source": [
    "# Create input widgets\n",
    "movie_title_input = widgets.Text(value='Toy Story', description='Movie Title:')\n",
    "num_recommendations_input = widgets.IntText(value=5, description='Num Recommendations:')\n",
    "submit_button = widgets.Button(description='Submit')\n",
    "submit_button.on_click(on_button_click)\n"
   ]
  },
  {
   "cell_type": "code",
   "execution_count": 32,
   "id": "bba70803",
   "metadata": {},
   "outputs": [
    {
     "data": {
      "application/vnd.jupyter.widget-view+json": {
       "model_id": "6a4bbf85cf30427f8cceb638f69f5eb3",
       "version_major": 2,
       "version_minor": 0
      },
      "text/plain": [
       "Text(value='Toy Story', description='Movie Title:')"
      ]
     },
     "metadata": {},
     "output_type": "display_data"
    },
    {
     "data": {
      "application/vnd.jupyter.widget-view+json": {
       "model_id": "7ccc65d89b8f4bbfb959305eef9be56f",
       "version_major": 2,
       "version_minor": 0
      },
      "text/plain": [
       "IntText(value=5, description='Num Recommendations:')"
      ]
     },
     "metadata": {},
     "output_type": "display_data"
    },
    {
     "data": {
      "application/vnd.jupyter.widget-view+json": {
       "model_id": "ec43fffefb074fc18d403e11d8d0e041",
       "version_major": 2,
       "version_minor": 0
      },
      "text/plain": [
       "Button(description='Submit', style=ButtonStyle())"
      ]
     },
     "metadata": {},
     "output_type": "display_data"
    },
    {
     "name": "stdout",
     "output_type": "stream",
     "text": [
      "['Four Rooms (1995)', 'Ace Ventura: When Nature Calls (1995)', 'Bio-Dome (1996)', 'Friday (1995)', 'Black Sheep (1996)']\n",
      "['Four Rooms (1995)', 'Ace Ventura: When Nature Calls (1995)', 'Bio-Dome (1996)', 'Friday (1995)', 'Black Sheep (1996)']\n",
      "['Four Rooms (1995)', 'Ace Ventura: When Nature Calls (1995)', 'Bio-Dome (1996)', 'Friday (1995)', 'Black Sheep (1996)']\n",
      "['Four Rooms (1995)', 'Ace Ventura: When Nature Calls (1995)', 'Bio-Dome (1996)', 'Friday (1995)', 'Black Sheep (1996)']\n",
      "['American President, The (1995)', 'Mighty Aphrodite (1995)', 'Postman, The (Postino, Il) (1994)', 'Beautiful Girls (1996)']\n",
      "['American President, The (1995)', 'Mighty Aphrodite (1995)', 'Postman, The (Postino, Il) (1994)', 'Beautiful Girls (1996)']\n"
     ]
    }
   ],
   "source": [
    "# Display the widgets\n",
    "display(movie_title_input, num_recommendations_input, submit_button)"
   ]
  },
  {
   "cell_type": "code",
   "execution_count": null,
   "id": "9205c6dd",
   "metadata": {},
   "outputs": [],
   "source": []
  }
 ],
 "metadata": {
  "kernelspec": {
   "display_name": "Python 3 (ipykernel)",
   "language": "python",
   "name": "python3"
  },
  "language_info": {
   "codemirror_mode": {
    "name": "ipython",
    "version": 3
   },
   "file_extension": ".py",
   "mimetype": "text/x-python",
   "name": "python",
   "nbconvert_exporter": "python",
   "pygments_lexer": "ipython3",
   "version": "3.9.13"
  }
 },
 "nbformat": 4,
 "nbformat_minor": 5
}
